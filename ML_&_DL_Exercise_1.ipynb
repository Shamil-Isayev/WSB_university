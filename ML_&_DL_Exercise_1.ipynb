{
  "nbformat": 4,
  "nbformat_minor": 0,
  "metadata": {
    "colab": {
      "provenance": [],
      "include_colab_link": true
    },
    "kernelspec": {
      "name": "python3",
      "display_name": "Python 3"
    },
    "language_info": {
      "name": "python"
    }
  },
  "cells": [
    {
      "cell_type": "markdown",
      "metadata": {
        "id": "view-in-github",
        "colab_type": "text"
      },
      "source": [
        "<a href=\"https://colab.research.google.com/github/Shamil-Isayev/WSB_university/blob/main/ML_%26_DL_Exercise_1.ipynb\" target=\"_parent\"><img src=\"https://colab.research.google.com/assets/colab-badge.svg\" alt=\"Open In Colab\"/></a>"
      ]
    },
    {
      "cell_type": "markdown",
      "source": [
        "-------------------\n",
        "#Introduction Python\n",
        "-------------------\n",
        "#Machine Learning and Deep Learning DG Informatyka\n",
        "-------------------\n",
        "#Students: \n",
        "\n",
        "***Mirzagha Aliyev 48139***\n",
        "\n",
        "***Shamil Isayev 46025***\n",
        "\n",
        "***Nijat Hajiyev 46771***\n",
        "\n",
        "\n",
        "-------------------\n",
        "#Professor: ***Anna Wójcicka***\n",
        "-------------------\n"
      ],
      "metadata": {
        "id": "TqwunFMAe_dK"
      }
    },
    {
      "cell_type": "markdown",
      "source": [
        "#Excercise 1 - database Iris"
      ],
      "metadata": {
        "id": "kQ99J9Ojgbde"
      }
    },
    {
      "cell_type": "code",
      "source": [
        "# IMPORT THE PANDAS AND NUMPY LIBRARIES\n",
        "import pandas as pd\n",
        "import numpy as np\n",
        "\n",
        "# IMPORT THE IRIS DATA FROM THE\n",
        "# SKLEARN MODULE\n",
        "from sklearn.datasets import load_iris\n",
        "\n",
        "# LOAD THE IRIS DATASET BY CALLING\n",
        "# THE FUNCTION\n",
        "iris_data = load_iris()\n",
        "irisRaw = load_iris()\n",
        "\n",
        "# PLACE THE IRIS DATA IN A PANDAS\n",
        "# DATAFRAME\n",
        "df = pd.DataFrame(data = np.c_[irisRaw['data'], irisRaw['target']],\n",
        "                  columns= irisRaw['feature_names'] + ['target'])\n",
        "\n",
        "# DISPLAY FIRST 5 RECORDS OF THE\n",
        "# DATAFRAME\n",
        "df.head()"
      ],
      "metadata": {
        "colab": {
          "base_uri": "https://localhost:8080/",
          "height": 206
        },
        "id": "8l6MY-A3h6WJ",
        "outputId": "48fc1506-89a2-4fa3-8fc5-3ea23c7a9ed0"
      },
      "execution_count": null,
      "outputs": [
        {
          "output_type": "execute_result",
          "data": {
            "text/plain": [
              "   sepal length (cm)  sepal width (cm)  petal length (cm)  petal width (cm)  \\\n",
              "0                5.1               3.5                1.4               0.2   \n",
              "1                4.9               3.0                1.4               0.2   \n",
              "2                4.7               3.2                1.3               0.2   \n",
              "3                4.6               3.1                1.5               0.2   \n",
              "4                5.0               3.6                1.4               0.2   \n",
              "\n",
              "   target  \n",
              "0     0.0  \n",
              "1     0.0  \n",
              "2     0.0  \n",
              "3     0.0  \n",
              "4     0.0  "
            ],
            "text/html": [
              "\n",
              "  <div id=\"df-8a35184a-5eb5-40b0-8c79-9f1667d084e2\">\n",
              "    <div class=\"colab-df-container\">\n",
              "      <div>\n",
              "<style scoped>\n",
              "    .dataframe tbody tr th:only-of-type {\n",
              "        vertical-align: middle;\n",
              "    }\n",
              "\n",
              "    .dataframe tbody tr th {\n",
              "        vertical-align: top;\n",
              "    }\n",
              "\n",
              "    .dataframe thead th {\n",
              "        text-align: right;\n",
              "    }\n",
              "</style>\n",
              "<table border=\"1\" class=\"dataframe\">\n",
              "  <thead>\n",
              "    <tr style=\"text-align: right;\">\n",
              "      <th></th>\n",
              "      <th>sepal length (cm)</th>\n",
              "      <th>sepal width (cm)</th>\n",
              "      <th>petal length (cm)</th>\n",
              "      <th>petal width (cm)</th>\n",
              "      <th>target</th>\n",
              "    </tr>\n",
              "  </thead>\n",
              "  <tbody>\n",
              "    <tr>\n",
              "      <th>0</th>\n",
              "      <td>5.1</td>\n",
              "      <td>3.5</td>\n",
              "      <td>1.4</td>\n",
              "      <td>0.2</td>\n",
              "      <td>0.0</td>\n",
              "    </tr>\n",
              "    <tr>\n",
              "      <th>1</th>\n",
              "      <td>4.9</td>\n",
              "      <td>3.0</td>\n",
              "      <td>1.4</td>\n",
              "      <td>0.2</td>\n",
              "      <td>0.0</td>\n",
              "    </tr>\n",
              "    <tr>\n",
              "      <th>2</th>\n",
              "      <td>4.7</td>\n",
              "      <td>3.2</td>\n",
              "      <td>1.3</td>\n",
              "      <td>0.2</td>\n",
              "      <td>0.0</td>\n",
              "    </tr>\n",
              "    <tr>\n",
              "      <th>3</th>\n",
              "      <td>4.6</td>\n",
              "      <td>3.1</td>\n",
              "      <td>1.5</td>\n",
              "      <td>0.2</td>\n",
              "      <td>0.0</td>\n",
              "    </tr>\n",
              "    <tr>\n",
              "      <th>4</th>\n",
              "      <td>5.0</td>\n",
              "      <td>3.6</td>\n",
              "      <td>1.4</td>\n",
              "      <td>0.2</td>\n",
              "      <td>0.0</td>\n",
              "    </tr>\n",
              "  </tbody>\n",
              "</table>\n",
              "</div>\n",
              "      <button class=\"colab-df-convert\" onclick=\"convertToInteractive('df-8a35184a-5eb5-40b0-8c79-9f1667d084e2')\"\n",
              "              title=\"Convert this dataframe to an interactive table.\"\n",
              "              style=\"display:none;\">\n",
              "        \n",
              "  <svg xmlns=\"http://www.w3.org/2000/svg\" height=\"24px\"viewBox=\"0 0 24 24\"\n",
              "       width=\"24px\">\n",
              "    <path d=\"M0 0h24v24H0V0z\" fill=\"none\"/>\n",
              "    <path d=\"M18.56 5.44l.94 2.06.94-2.06 2.06-.94-2.06-.94-.94-2.06-.94 2.06-2.06.94zm-11 1L8.5 8.5l.94-2.06 2.06-.94-2.06-.94L8.5 2.5l-.94 2.06-2.06.94zm10 10l.94 2.06.94-2.06 2.06-.94-2.06-.94-.94-2.06-.94 2.06-2.06.94z\"/><path d=\"M17.41 7.96l-1.37-1.37c-.4-.4-.92-.59-1.43-.59-.52 0-1.04.2-1.43.59L10.3 9.45l-7.72 7.72c-.78.78-.78 2.05 0 2.83L4 21.41c.39.39.9.59 1.41.59.51 0 1.02-.2 1.41-.59l7.78-7.78 2.81-2.81c.8-.78.8-2.07 0-2.86zM5.41 20L4 18.59l7.72-7.72 1.47 1.35L5.41 20z\"/>\n",
              "  </svg>\n",
              "      </button>\n",
              "      \n",
              "  <style>\n",
              "    .colab-df-container {\n",
              "      display:flex;\n",
              "      flex-wrap:wrap;\n",
              "      gap: 12px;\n",
              "    }\n",
              "\n",
              "    .colab-df-convert {\n",
              "      background-color: #E8F0FE;\n",
              "      border: none;\n",
              "      border-radius: 50%;\n",
              "      cursor: pointer;\n",
              "      display: none;\n",
              "      fill: #1967D2;\n",
              "      height: 32px;\n",
              "      padding: 0 0 0 0;\n",
              "      width: 32px;\n",
              "    }\n",
              "\n",
              "    .colab-df-convert:hover {\n",
              "      background-color: #E2EBFA;\n",
              "      box-shadow: 0px 1px 2px rgba(60, 64, 67, 0.3), 0px 1px 3px 1px rgba(60, 64, 67, 0.15);\n",
              "      fill: #174EA6;\n",
              "    }\n",
              "\n",
              "    [theme=dark] .colab-df-convert {\n",
              "      background-color: #3B4455;\n",
              "      fill: #D2E3FC;\n",
              "    }\n",
              "\n",
              "    [theme=dark] .colab-df-convert:hover {\n",
              "      background-color: #434B5C;\n",
              "      box-shadow: 0px 1px 3px 1px rgba(0, 0, 0, 0.15);\n",
              "      filter: drop-shadow(0px 1px 2px rgba(0, 0, 0, 0.3));\n",
              "      fill: #FFFFFF;\n",
              "    }\n",
              "  </style>\n",
              "\n",
              "      <script>\n",
              "        const buttonEl =\n",
              "          document.querySelector('#df-8a35184a-5eb5-40b0-8c79-9f1667d084e2 button.colab-df-convert');\n",
              "        buttonEl.style.display =\n",
              "          google.colab.kernel.accessAllowed ? 'block' : 'none';\n",
              "\n",
              "        async function convertToInteractive(key) {\n",
              "          const element = document.querySelector('#df-8a35184a-5eb5-40b0-8c79-9f1667d084e2');\n",
              "          const dataTable =\n",
              "            await google.colab.kernel.invokeFunction('convertToInteractive',\n",
              "                                                     [key], {});\n",
              "          if (!dataTable) return;\n",
              "\n",
              "          const docLinkHtml = 'Like what you see? Visit the ' +\n",
              "            '<a target=\"_blank\" href=https://colab.research.google.com/notebooks/data_table.ipynb>data table notebook</a>'\n",
              "            + ' to learn more about interactive tables.';\n",
              "          element.innerHTML = '';\n",
              "          dataTable['output_type'] = 'display_data';\n",
              "          await google.colab.output.renderOutput(dataTable, element);\n",
              "          const docLink = document.createElement('div');\n",
              "          docLink.innerHTML = docLinkHtml;\n",
              "          element.appendChild(docLink);\n",
              "        }\n",
              "      </script>\n",
              "    </div>\n",
              "  </div>\n",
              "  "
            ]
          },
          "metadata": {},
          "execution_count": 17
        }
      ]
    },
    {
      "cell_type": "markdown",
      "source": [
        "#1. Please view the data and refer to the specific information."
      ],
      "metadata": {
        "id": "uYkCHtb3jCzh"
      }
    },
    {
      "cell_type": "code",
      "source": [
        "print(df)"
      ],
      "metadata": {
        "colab": {
          "base_uri": "https://localhost:8080/"
        },
        "id": "VwF1i1BdjHPk",
        "outputId": "3eee18ee-0543-4cdd-e78a-2aa7194dfcaf"
      },
      "execution_count": null,
      "outputs": [
        {
          "output_type": "stream",
          "name": "stdout",
          "text": [
            "     sepal length (cm)  sepal width (cm)  petal length (cm)  petal width (cm)  \\\n",
            "0                  5.1               3.5                1.4               0.2   \n",
            "1                  4.9               3.0                1.4               0.2   \n",
            "2                  4.7               3.2                1.3               0.2   \n",
            "3                  4.6               3.1                1.5               0.2   \n",
            "4                  5.0               3.6                1.4               0.2   \n",
            "..                 ...               ...                ...               ...   \n",
            "145                6.7               3.0                5.2               2.3   \n",
            "146                6.3               2.5                5.0               1.9   \n",
            "147                6.5               3.0                5.2               2.0   \n",
            "148                6.2               3.4                5.4               2.3   \n",
            "149                5.9               3.0                5.1               1.8   \n",
            "\n",
            "     target  \n",
            "0       0.0  \n",
            "1       0.0  \n",
            "2       0.0  \n",
            "3       0.0  \n",
            "4       0.0  \n",
            "..      ...  \n",
            "145     2.0  \n",
            "146     2.0  \n",
            "147     2.0  \n",
            "148     2.0  \n",
            "149     2.0  \n",
            "\n",
            "[150 rows x 5 columns]\n"
          ]
        }
      ]
    },
    {
      "cell_type": "code",
      "source": [
        "print(df.iloc[:5])"
      ],
      "metadata": {
        "colab": {
          "base_uri": "https://localhost:8080/"
        },
        "id": "bUJiy5uIjKa1",
        "outputId": "c63911c8-3f2d-499c-c685-030d8fc7b74a"
      },
      "execution_count": null,
      "outputs": [
        {
          "output_type": "stream",
          "name": "stdout",
          "text": [
            "   sepal length (cm)  sepal width (cm)  petal length (cm)  petal width (cm)  \\\n",
            "0                5.1               3.5                1.4               0.2   \n",
            "1                4.9               3.0                1.4               0.2   \n",
            "2                4.7               3.2                1.3               0.2   \n",
            "3                4.6               3.1                1.5               0.2   \n",
            "4                5.0               3.6                1.4               0.2   \n",
            "\n",
            "   target  \n",
            "0     0.0  \n",
            "1     0.0  \n",
            "2     0.0  \n",
            "3     0.0  \n",
            "4     0.0  \n"
          ]
        }
      ]
    },
    {
      "cell_type": "code",
      "source": [
        "print(df['target'])"
      ],
      "metadata": {
        "colab": {
          "base_uri": "https://localhost:8080/"
        },
        "id": "RmHqBpJFjNUl",
        "outputId": "c571b2f6-3599-44f5-e555-29a4bd54adc4"
      },
      "execution_count": null,
      "outputs": [
        {
          "output_type": "stream",
          "name": "stdout",
          "text": [
            "0      0.0\n",
            "1      0.0\n",
            "2      0.0\n",
            "3      0.0\n",
            "4      0.0\n",
            "      ... \n",
            "145    2.0\n",
            "146    2.0\n",
            "147    2.0\n",
            "148    2.0\n",
            "149    2.0\n",
            "Name: target, Length: 150, dtype: float64\n"
          ]
        }
      ]
    },
    {
      "cell_type": "markdown",
      "source": [
        "# 2. Display the number of rows and columns."
      ],
      "metadata": {
        "id": "O4kxRNipjRP3"
      }
    },
    {
      "cell_type": "code",
      "source": [
        "print(df.shape)"
      ],
      "metadata": {
        "colab": {
          "base_uri": "https://localhost:8080/"
        },
        "id": "l4lehy0fjVOe",
        "outputId": "2759ef30-7604-4342-8d2a-85499e0d9e0c"
      },
      "execution_count": null,
      "outputs": [
        {
          "output_type": "stream",
          "name": "stdout",
          "text": [
            "(150, 5)\n"
          ]
        }
      ]
    },
    {
      "cell_type": "markdown",
      "source": [
        "#3. View basic information for individual columns. Use the 'describe' and 'groupby' methods"
      ],
      "metadata": {
        "id": "FONFuA_NjpLy"
      }
    },
    {
      "cell_type": "code",
      "source": [
        "print(df.describe())  #describe methods"
      ],
      "metadata": {
        "colab": {
          "base_uri": "https://localhost:8080/"
        },
        "id": "JfC1n4aIjyoX",
        "outputId": "1c7afa91-7387-429a-c776-870af2823ce0"
      },
      "execution_count": null,
      "outputs": [
        {
          "output_type": "stream",
          "name": "stdout",
          "text": [
            "       sepal length (cm)  sepal width (cm)  petal length (cm)  \\\n",
            "count         150.000000        150.000000         150.000000   \n",
            "mean            5.843333          3.057333           3.758000   \n",
            "std             0.828066          0.435866           1.765298   \n",
            "min             4.300000          2.000000           1.000000   \n",
            "25%             5.100000          2.800000           1.600000   \n",
            "50%             5.800000          3.000000           4.350000   \n",
            "75%             6.400000          3.300000           5.100000   \n",
            "max             7.900000          4.400000           6.900000   \n",
            "\n",
            "       petal width (cm)      target  \n",
            "count        150.000000  150.000000  \n",
            "mean           1.199333    1.000000  \n",
            "std            0.762238    0.819232  \n",
            "min            0.100000    0.000000  \n",
            "25%            0.300000    0.000000  \n",
            "50%            1.300000    1.000000  \n",
            "75%            1.800000    2.000000  \n",
            "max            2.500000    2.000000  \n"
          ]
        }
      ]
    },
    {
      "cell_type": "code",
      "source": [
        "print(df.groupby('target').mean()) #groupby"
      ],
      "metadata": {
        "colab": {
          "base_uri": "https://localhost:8080/"
        },
        "id": "Ea_LTWqYkJxW",
        "outputId": "d4758b6a-d9ee-4a89-ed80-0a1800af145b"
      },
      "execution_count": null,
      "outputs": [
        {
          "output_type": "stream",
          "name": "stdout",
          "text": [
            "        sepal length (cm)  sepal width (cm)  petal length (cm)  \\\n",
            "target                                                           \n",
            "0.0                 5.006             3.428              1.462   \n",
            "1.0                 5.936             2.770              4.260   \n",
            "2.0                 6.588             2.974              5.552   \n",
            "\n",
            "        petal width (cm)  \n",
            "target                    \n",
            "0.0                0.246  \n",
            "1.0                1.326  \n",
            "2.0                2.026  \n"
          ]
        }
      ]
    },
    {
      "cell_type": "markdown",
      "source": [
        "#4. Using the 'head' method please display the first 5 rows"
      ],
      "metadata": {
        "id": "LQufL6SLkPof"
      }
    },
    {
      "cell_type": "code",
      "source": [
        "print(df.head())"
      ],
      "metadata": {
        "colab": {
          "base_uri": "https://localhost:8080/"
        },
        "id": "jrfKqN1okRWv",
        "outputId": "45553f3c-aa37-4563-f3b1-ad517776b7fb"
      },
      "execution_count": null,
      "outputs": [
        {
          "output_type": "stream",
          "name": "stdout",
          "text": [
            "   sepal length (cm)  sepal width (cm)  petal length (cm)  petal width (cm)  \\\n",
            "0                5.1               3.5                1.4               0.2   \n",
            "1                4.9               3.0                1.4               0.2   \n",
            "2                4.7               3.2                1.3               0.2   \n",
            "3                4.6               3.1                1.5               0.2   \n",
            "4                5.0               3.6                1.4               0.2   \n",
            "\n",
            "   target  \n",
            "0     0.0  \n",
            "1     0.0  \n",
            "2     0.0  \n",
            "3     0.0  \n",
            "4     0.0  \n"
          ]
        }
      ]
    },
    {
      "cell_type": "markdown",
      "source": [
        "#5. Using “dropna” check if the database contains missing data"
      ],
      "metadata": {
        "id": "vMzNbVHwkpAc"
      }
    },
    {
      "cell_type": "code",
      "source": [
        "# Check if dataframe contains missing data\n",
        "if df.dropna().empty:\n",
        "    print(\"The dataframe does not contain any missing data.\")\n",
        "else:\n",
        "    print(\"The dataframe contains missing data.\")"
      ],
      "metadata": {
        "colab": {
          "base_uri": "https://localhost:8080/"
        },
        "id": "rOXE9ZKYkrv8",
        "outputId": "39793cf5-8888-4c33-dea2-42dc4250b332"
      },
      "execution_count": null,
      "outputs": [
        {
          "output_type": "stream",
          "name": "stdout",
          "text": [
            "The dataframe contains missing data.\n"
          ]
        }
      ]
    },
    {
      "cell_type": "markdown",
      "source": [
        "#6. Sorting the dataset according to specific criteria is another important part of the pandas package. In order to sort by rows or columns, use the sort_values method, which returns a new, sorted object."
      ],
      "metadata": {
        "id": "BFf7yKw5k4gP"
      }
    },
    {
      "cell_type": "code",
      "source": [
        "# Sort the dataframe by sepal length (ascending order)\n",
        "sorted_df = df.sort_values(by='sepal length (cm)')\n",
        "\n",
        "# Display the sorted dataframe\n",
        "print(sorted_df)\n"
      ],
      "metadata": {
        "colab": {
          "base_uri": "https://localhost:8080/"
        },
        "id": "zBVbNdOTk_R-",
        "outputId": "5c7c668b-4f33-4271-e0e6-a38b8eb6973f"
      },
      "execution_count": null,
      "outputs": [
        {
          "output_type": "stream",
          "name": "stdout",
          "text": [
            "     sepal length (cm)  sepal width (cm)  petal length (cm)  petal width (cm)  \\\n",
            "13                 4.3               3.0                1.1               0.1   \n",
            "42                 4.4               3.2                1.3               0.2   \n",
            "38                 4.4               3.0                1.3               0.2   \n",
            "8                  4.4               2.9                1.4               0.2   \n",
            "41                 4.5               2.3                1.3               0.3   \n",
            "..                 ...               ...                ...               ...   \n",
            "122                7.7               2.8                6.7               2.0   \n",
            "118                7.7               2.6                6.9               2.3   \n",
            "117                7.7               3.8                6.7               2.2   \n",
            "135                7.7               3.0                6.1               2.3   \n",
            "131                7.9               3.8                6.4               2.0   \n",
            "\n",
            "     target  \n",
            "13      0.0  \n",
            "42      0.0  \n",
            "38      0.0  \n",
            "8       0.0  \n",
            "41      0.0  \n",
            "..      ...  \n",
            "122     2.0  \n",
            "118     2.0  \n",
            "117     2.0  \n",
            "135     2.0  \n",
            "131     2.0  \n",
            "\n",
            "[150 rows x 5 columns]\n"
          ]
        }
      ]
    },
    {
      "cell_type": "markdown",
      "source": [
        "# 7. Sort the data in ascending order relative to the second column. (Sorting by index Panda- sort_index())\n"
      ],
      "metadata": {
        "id": "cOgWB_wVlJQD"
      }
    },
    {
      "cell_type": "code",
      "source": [
        "# Sort the dataframe by the second column in ascending order\n",
        "sorted_df = df.sort_values(by=df.columns[1])\n",
        "\n",
        "# Display the sorted dataframe\n",
        "print(sorted_df)"
      ],
      "metadata": {
        "colab": {
          "base_uri": "https://localhost:8080/"
        },
        "id": "pNw7E1silNno",
        "outputId": "acf5694a-dd0f-41dd-e2f9-bf630e10a9b1"
      },
      "execution_count": null,
      "outputs": [
        {
          "output_type": "stream",
          "name": "stdout",
          "text": [
            "     sepal length (cm)  sepal width (cm)  petal length (cm)  petal width (cm)  \\\n",
            "60                 5.0               2.0                3.5               1.0   \n",
            "62                 6.0               2.2                4.0               1.0   \n",
            "119                6.0               2.2                5.0               1.5   \n",
            "68                 6.2               2.2                4.5               1.5   \n",
            "41                 4.5               2.3                1.3               0.3   \n",
            "..                 ...               ...                ...               ...   \n",
            "16                 5.4               3.9                1.3               0.4   \n",
            "14                 5.8               4.0                1.2               0.2   \n",
            "32                 5.2               4.1                1.5               0.1   \n",
            "33                 5.5               4.2                1.4               0.2   \n",
            "15                 5.7               4.4                1.5               0.4   \n",
            "\n",
            "     target  \n",
            "60      1.0  \n",
            "62      1.0  \n",
            "119     2.0  \n",
            "68      1.0  \n",
            "41      0.0  \n",
            "..      ...  \n",
            "16      0.0  \n",
            "14      0.0  \n",
            "32      0.0  \n",
            "33      0.0  \n",
            "15      0.0  \n",
            "\n",
            "[150 rows x 5 columns]\n"
          ]
        }
      ]
    },
    {
      "cell_type": "code",
      "source": [
        "# Sort the dataframe by index in ascending order\n",
        "sorted_df = df.sort_index()\n",
        "\n",
        "# Display the sorted dataframe\n",
        "print(sorted_df)\n"
      ],
      "metadata": {
        "colab": {
          "base_uri": "https://localhost:8080/"
        },
        "id": "U2sW9D-hlX7k",
        "outputId": "38c55880-67b3-4f68-8f81-9a4b76291c9d"
      },
      "execution_count": null,
      "outputs": [
        {
          "output_type": "stream",
          "name": "stdout",
          "text": [
            "     sepal length (cm)  sepal width (cm)  petal length (cm)  petal width (cm)  \\\n",
            "0                  5.1               3.5                1.4               0.2   \n",
            "1                  4.9               3.0                1.4               0.2   \n",
            "2                  4.7               3.2                1.3               0.2   \n",
            "3                  4.6               3.1                1.5               0.2   \n",
            "4                  5.0               3.6                1.4               0.2   \n",
            "..                 ...               ...                ...               ...   \n",
            "145                6.7               3.0                5.2               2.3   \n",
            "146                6.3               2.5                5.0               1.9   \n",
            "147                6.5               3.0                5.2               2.0   \n",
            "148                6.2               3.4                5.4               2.3   \n",
            "149                5.9               3.0                5.1               1.8   \n",
            "\n",
            "     target  \n",
            "0       0.0  \n",
            "1       0.0  \n",
            "2       0.0  \n",
            "3       0.0  \n",
            "4       0.0  \n",
            "..      ...  \n",
            "145     2.0  \n",
            "146     2.0  \n",
            "147     2.0  \n",
            "148     2.0  \n",
            "149     2.0  \n",
            "\n",
            "[150 rows x 5 columns]\n"
          ]
        }
      ]
    },
    {
      "cell_type": "markdown",
      "source": [
        "# 8. Find the minimum and maximum petal length (column 3 - petal length). Give the index of each of these values."
      ],
      "metadata": {
        "id": "287CQgaLlZg9"
      }
    },
    {
      "cell_type": "code",
      "source": [
        "# Find the minimum and maximum petal length and their index values\n",
        "min_petal_length = df['petal length (cm)'].min()\n",
        "max_petal_length = df['petal length (cm)'].max()\n",
        "min_petal_length_index = df['petal length (cm)'].idxmin()\n",
        "max_petal_length_index = df['petal length (cm)'].idxmax()\n",
        "\n",
        "# Print the results\n",
        "print(\"Minimum petal length is {} at index {}\".format(min_petal_length, min_petal_length_index))\n",
        "print(\"Maximum petal length is {} at index {}\".format(max_petal_length, max_petal_length_index))"
      ],
      "metadata": {
        "colab": {
          "base_uri": "https://localhost:8080/"
        },
        "id": "j_UQs5yxldZ-",
        "outputId": "d27cd381-825e-4dde-b615-803b0e292d4b"
      },
      "execution_count": null,
      "outputs": [
        {
          "output_type": "stream",
          "name": "stdout",
          "text": [
            "Minimum petal length is 1.0 at index 22\n",
            "Maximum petal length is 6.9 at index 118\n"
          ]
        }
      ]
    },
    {
      "cell_type": "markdown",
      "source": [
        "# 9. Calculate the standard deviation for each column"
      ],
      "metadata": {
        "id": "bc7gi-KTloxE"
      }
    },
    {
      "cell_type": "code",
      "source": [
        "# Calculate the standard deviation for each column\n",
        "std_devs = df.std()\n",
        "\n",
        "# Print the results\n",
        "print(std_devs)"
      ],
      "metadata": {
        "colab": {
          "base_uri": "https://localhost:8080/"
        },
        "id": "XD5hyYjKlqPs",
        "outputId": "cd32789e-9307-43e9-fb59-132b0a59d348"
      },
      "execution_count": null,
      "outputs": [
        {
          "output_type": "stream",
          "name": "stdout",
          "text": [
            "sepal length (cm)    0.828066\n",
            "sepal width (cm)     0.435866\n",
            "petal length (cm)    1.765298\n",
            "petal width (cm)     0.762238\n",
            "target               0.819232\n",
            "dtype: float64\n"
          ]
        }
      ]
    },
    {
      "cell_type": "code",
      "source": [
        "# Calculate the standard deviation for each column and format the results\n",
        "std_devs = df.std().to_frame().transpose()\n",
        "std_devs.index = ['std_devs']\n",
        "\n",
        "# Print the results\n",
        "print(std_devs)"
      ],
      "metadata": {
        "colab": {
          "base_uri": "https://localhost:8080/"
        },
        "id": "rOhi2vndly5e",
        "outputId": "e89482aa-e7d2-48da-a9bd-4cdcadd01143"
      },
      "execution_count": null,
      "outputs": [
        {
          "output_type": "stream",
          "name": "stdout",
          "text": [
            "          sepal length (cm)  sepal width (cm)  petal length (cm)  \\\n",
            "std_devs           0.828066          0.435866           1.765298   \n",
            "\n",
            "          petal width (cm)    target  \n",
            "std_devs          0.762238  0.819232  \n"
          ]
        }
      ]
    },
    {
      "cell_type": "markdown",
      "source": [
        "# 10. Identify rows for which the length of the flower cup (sepal length) is greater than the average length (the whole set)"
      ],
      "metadata": {
        "id": "io3LUYRFl5pf"
      }
    },
    {
      "cell_type": "code",
      "source": [
        "# Calculate the average sepal length\n",
        "avg_sepal_length = df['sepal length (cm)'].mean()\n",
        "\n",
        "# Filter the dataframe to keep only the rows where the sepal length is greater than the average sepal length\n",
        "long_sepal_df = df[df['sepal length (cm)'] > avg_sepal_length]\n",
        "\n",
        "# Print the resulting dataframe\n",
        "print(long_sepal_df)"
      ],
      "metadata": {
        "colab": {
          "base_uri": "https://localhost:8080/"
        },
        "id": "d_jQbfpIl9aY",
        "outputId": "9907f73c-9e28-434e-b28e-296691d8ff41"
      },
      "execution_count": null,
      "outputs": [
        {
          "output_type": "stream",
          "name": "stdout",
          "text": [
            "     sepal length (cm)  sepal width (cm)  petal length (cm)  petal width (cm)  \\\n",
            "50                 7.0               3.2                4.7               1.4   \n",
            "51                 6.4               3.2                4.5               1.5   \n",
            "52                 6.9               3.1                4.9               1.5   \n",
            "54                 6.5               2.8                4.6               1.5   \n",
            "56                 6.3               3.3                4.7               1.6   \n",
            "..                 ...               ...                ...               ...   \n",
            "145                6.7               3.0                5.2               2.3   \n",
            "146                6.3               2.5                5.0               1.9   \n",
            "147                6.5               3.0                5.2               2.0   \n",
            "148                6.2               3.4                5.4               2.3   \n",
            "149                5.9               3.0                5.1               1.8   \n",
            "\n",
            "     target  \n",
            "50      1.0  \n",
            "51      1.0  \n",
            "52      1.0  \n",
            "54      1.0  \n",
            "56      1.0  \n",
            "..      ...  \n",
            "145     2.0  \n",
            "146     2.0  \n",
            "147     2.0  \n",
            "148     2.0  \n",
            "149     2.0  \n",
            "\n",
            "[70 rows x 5 columns]\n"
          ]
        }
      ]
    }
  ]
}